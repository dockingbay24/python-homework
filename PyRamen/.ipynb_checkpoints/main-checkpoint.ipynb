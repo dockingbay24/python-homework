{
 "cells": [
  {
   "cell_type": "code",
   "execution_count": 17,
   "id": "5f344cfd-38aa-4622-b46c-8b47599daf0f",
   "metadata": {},
   "outputs": [
    {
     "data": {
      "text/plain": [
       "'Chris Groshong: PyRamen.\\n\\nPython script for analyzing the analyze how well your business did on a per-product basis \\nin order to better understand which products are doing well, which are doing poorly, \\nand, ultimately, which products may need to be removed or changed.\\n\\nRead the data in,performate data manipulations\\n01-count: the total quantity for each ramen type\\n02-revenue: the total revenue for each ramen type\\n03-cogs: the total cost of goods sold for each ramen type\\n04-profit: the total profit for each ramen type\\n\\nloop through sales and perform analysis\\n\\nWrite out the contents of the report dictionary to a text file. \\nThe report should output each ramen type as the keys and\\n01-count, 02-revenue, 03-cogs, and 04-profit metrics as the values for every ramen.\\n\\n'"
      ]
     },
     "execution_count": 17,
     "metadata": {},
     "output_type": "execute_result"
    }
   ],
   "source": [
    "\"\"\"Chris Groshong: PyRamen.\n",
    "\n",
    "Python script for analyzing the analyze how well your business did on a per-product basis \n",
    "in order to better understand which products are doing well, which are doing poorly, \n",
    "and, ultimately, which products may need to be removed or changed.\n",
    "\n",
    "Read the data in,performate data manipulations\n",
    "01-count: the total quantity for each ramen type\n",
    "02-revenue: the total revenue for each ramen type\n",
    "03-cogs: the total cost of goods sold for each ramen type\n",
    "04-profit: the total profit for each ramen type\n",
    "\n",
    "loop through sales and perform analysis\n",
    "\n",
    "Write out the contents of the report dictionary to a text file. \n",
    "The report should output each ramen type as the keys and\n",
    "01-count, 02-revenue, 03-cogs, and 04-profit metrics as the values for every ramen.\n",
    "\n",
    "\"\"\""
   ]
  },
  {
   "cell_type": "code",
   "execution_count": 18,
   "id": "f40b8c8e-1742-40e6-b9ea-bdf1ef00b3ad",
   "metadata": {},
   "outputs": [],
   "source": [
    "import csv\n",
    "from pathlib import Path"
   ]
  },
  {
   "cell_type": "code",
   "execution_count": 19,
   "id": "e8cfa636-eb6f-47df-b06f-24d5f6cd651b",
   "metadata": {},
   "outputs": [],
   "source": [
    "# @TODO: Set file paths for menu_data.csv and sales_data.csv\n",
    "menu_filepath = Path('C:/Users/miscg/zzz/python-homework/PyRamen/Resources/menu_data.csv')\n",
    "sales_filepath = Path('C:/Users/miscg/zzz/python-homework/PyRamen/Resources/sales_data.csv')"
   ]
  },
  {
   "cell_type": "code",
   "execution_count": 20,
   "id": "0f3bbc37-58e6-4bfd-9ea5-f9f9e6c1da04",
   "metadata": {},
   "outputs": [],
   "source": [
    "# @TODO: Initialize list objects to hold our menu and sales data\n",
    "menu = []\n",
    "sales = []"
   ]
  },
  {
   "cell_type": "code",
   "execution_count": 21,
   "id": "39832234-ef66-47ef-9da3-ef3c3932f232",
   "metadata": {},
   "outputs": [],
   "source": [
    "# @TODO: Read in the menu data into the menu list\n",
    "# Open the csv file as an object\n",
    "with open(menu_filepath, \"r\") as csvfile_m:\n",
    "\n",
    "    # Pass in the csv file to the csv.reader() function\n",
    "    # (with ',' as the delmiter/separator) and return the csvreader object\n",
    "    csvreader_m = csv.reader(csvfile_m, delimiter=\",\")\n",
    "    \n",
    "    # Read the header row first (skip this step if there is no header)\n",
    "    # csv_header = next(csvreader)\n",
    "    # Print the header\n",
    "    # print(csv_header)\n",
    "\n",
    "    # Read each row of data after the header\n",
    "    for row in csvreader_m:\n",
    "        menu = list(csvreader_m)\n",
    "    \n",
    "        \n",
    "\n",
    "\n"
   ]
  },
  {
   "cell_type": "code",
   "execution_count": 22,
   "id": "f72f26b9-7f81-478b-bf15-e4d5bcb926da",
   "metadata": {},
   "outputs": [],
   "source": [
    "# @TODO: Read in the sales data into the sales list\n",
    "with open(sales_filepath, \"r\") as csvfile_s:\n",
    "\n",
    "    # Pass in the csv file to the csv.reader() function\n",
    "    # (with ',' as the delmiter/separator) and return the csvreader object\n",
    "    csvreader_s = csv.reader(csvfile_s, delimiter=\",\")\n",
    "    \n",
    "    ## REVIEW THIS IS SKIPPING FIRST ROW OF DATA ##\n",
    "    ## TEMP REMOVED FOR MVP2                     ##\n",
    "    # Read the header row first (skip this step if there is no header)\n",
    "    # csv_header = next(csvreader_s)\n",
    "        \n",
    "    # Read each row of data after the header\n",
    "    for row in csvreader_s:\n",
    "        sales = list(csvreader_s)"
   ]
  },
  {
   "cell_type": "code",
   "execution_count": 23,
   "id": "3c1d7ba7-b5f9-4ace-a1b6-61f1a5bf113d",
   "metadata": {},
   "outputs": [],
   "source": [
    "# @TODO: Initialize dict object to hold our key-value pairs of items and metrics\n",
    "report = {}"
   ]
  },
  {
   "cell_type": "code",
   "execution_count": 24,
   "id": "bbc3cad5-ff74-45b1-9557-97851bc9dfab",
   "metadata": {},
   "outputs": [],
   "source": [
    "# Initialize a row counter variable\n",
    "row_count = 0"
   ]
  },
  {
   "cell_type": "code",
   "execution_count": 25,
   "id": "9ddab95c-b2c3-43e4-8fbd-9e1238776ec0",
   "metadata": {},
   "outputs": [],
   "source": [
    "# @TODO: Loop over every row in the sales list object\n",
    "for items in sales:\n",
    "    row_count += 1\n",
    "   \n"
   ]
  },
  {
   "cell_type": "code",
   "execution_count": 26,
   "id": "a1f1a2bb-aa88-438a-a040-87053fb58365",
   "metadata": {},
   "outputs": [
    {
     "data": {
      "text/plain": [
       "74124"
      ]
     },
     "execution_count": 26,
     "metadata": {},
     "output_type": "execute_result"
    }
   ],
   "source": [
    "#validate for loop went through sales, should be 74124\n",
    "row_count"
   ]
  },
  {
   "cell_type": "code",
   "execution_count": null,
   "id": "5845690f-75b2-4f89-af28-cadd583cf98e",
   "metadata": {},
   "outputs": [],
   "source": [
    "# @TODO: For every row in our sales data, loop over the menu records to determine a match\n",
    "\n",
    "\n",
    "        # Item,Category,Description,Price,Cost\n",
    "        # @TODO: Initialize menu data variables\n",
    "        total_cost = \n",
    "        \n",
    "        \n",
    "        \n",
    "        "
   ]
  }
 ],
 "metadata": {
  "kernelspec": {
   "display_name": "Python 3 (ipykernel)",
   "language": "python",
   "name": "python3"
  },
  "language_info": {
   "codemirror_mode": {
    "name": "ipython",
    "version": 3
   },
   "file_extension": ".py",
   "mimetype": "text/x-python",
   "name": "python",
   "nbconvert_exporter": "python",
   "pygments_lexer": "ipython3",
   "version": "3.7.11"
  }
 },
 "nbformat": 4,
 "nbformat_minor": 5
}
