{
 "cells": [
  {
   "cell_type": "markdown",
   "id": "3a303021-17db-4f62-8e8c-3763b0829d87",
   "metadata": {},
   "source": [
    "## Create a Python script that analyzes the records to calculate each of the following:"
   ]
  },
  {
   "cell_type": "code",
   "execution_count": 74,
   "id": "86781406-e7f0-499d-be20-2222b928c5c8",
   "metadata": {},
   "outputs": [
    {
     "data": {
      "text/plain": [
       "'Chris Groshong: PyBank.\\n\\nPython script for analyzing the financial records of your company. You will be provided with a financial dataset in this file: budget_data.csv. \\nThis dataset is composed of two columns, Date and Profit/Losses.\\n\\nThis script that analyzes the records to calculate each of the following:\\n> The total number of months included in the dataset.\\n> The net total amount of Profit/Losses over the entire period.\\n> The average of the changes in Profit/Losses over the entire period.\\n> The greatest increase in profits (date and amount) over the entire period.\\n> The greatest decrease in losses (date and amount) over the entire period.\\n\\n'"
      ]
     },
     "execution_count": 74,
     "metadata": {},
     "output_type": "execute_result"
    }
   ],
   "source": [
    "\"\"\"Chris Groshong: PyBank.\n",
    "\n",
    "Python script for analyzing the financial records of your company. You will be provided with a financial dataset in this file: budget_data.csv. \n",
    "This dataset is composed of two columns, Date and Profit/Losses.\n",
    "\n",
    "This script that analyzes the records to calculate each of the following:\n",
    "> The total number of months included in the dataset.\n",
    "> The net total amount of Profit/Losses over the entire period.\n",
    "> The average of the changes in Profit/Losses over the entire period.\n",
    "> The greatest increase in profits (date and amount) over the entire period.\n",
    "> The greatest decrease in losses (date and amount) over the entire period.\n",
    "\n",
    "\"\"\"\n"
   ]
  },
  {
   "cell_type": "code",
   "execution_count": 75,
   "id": "5806fe7f-7ffb-4d06-a4b6-82bf67e1f83e",
   "metadata": {},
   "outputs": [],
   "source": [
    "# Import the pathlib and csv library\n",
    "from pathlib import Path\n",
    "import csv\n",
    "import pandas as pd\n"
   ]
  },
  {
   "cell_type": "code",
   "execution_count": 76,
   "id": "166aa7fd-798b-497f-a7e9-955f19031c50",
   "metadata": {},
   "outputs": [],
   "source": [
    "# Set the file path\n",
    "csvpath = Path(\"C:/Users/miscg/zzz/UofM-VIRT-FIN-PT-03-2022-U-LOL/02-Homework/02-Python/Instructions/PyBank/Resources/budget_data.csv\")"
   ]
  },
  {
   "cell_type": "code",
   "execution_count": 77,
   "id": "cf21d2ba-3df3-4e6f-b70f-faa37d9dbbdf",
   "metadata": {},
   "outputs": [
    {
     "data": {
      "text/html": [
       "<div>\n",
       "<style scoped>\n",
       "    .dataframe tbody tr th:only-of-type {\n",
       "        vertical-align: middle;\n",
       "    }\n",
       "\n",
       "    .dataframe tbody tr th {\n",
       "        vertical-align: top;\n",
       "    }\n",
       "\n",
       "    .dataframe thead th {\n",
       "        text-align: right;\n",
       "    }\n",
       "</style>\n",
       "<table border=\"1\" class=\"dataframe\">\n",
       "  <thead>\n",
       "    <tr style=\"text-align: right;\">\n",
       "      <th></th>\n",
       "      <th>Date</th>\n",
       "      <th>Profit/Losses</th>\n",
       "    </tr>\n",
       "  </thead>\n",
       "  <tbody>\n",
       "    <tr>\n",
       "      <th>0</th>\n",
       "      <td>Jan-2010</td>\n",
       "      <td>867884</td>\n",
       "    </tr>\n",
       "    <tr>\n",
       "      <th>1</th>\n",
       "      <td>Feb-2010</td>\n",
       "      <td>984655</td>\n",
       "    </tr>\n",
       "    <tr>\n",
       "      <th>2</th>\n",
       "      <td>Mar-2010</td>\n",
       "      <td>322013</td>\n",
       "    </tr>\n",
       "    <tr>\n",
       "      <th>3</th>\n",
       "      <td>Apr-2010</td>\n",
       "      <td>-69417</td>\n",
       "    </tr>\n",
       "    <tr>\n",
       "      <th>4</th>\n",
       "      <td>May-2010</td>\n",
       "      <td>310503</td>\n",
       "    </tr>\n",
       "  </tbody>\n",
       "</table>\n",
       "</div>"
      ],
      "text/plain": [
       "       Date  Profit/Losses\n",
       "0  Jan-2010         867884\n",
       "1  Feb-2010         984655\n",
       "2  Mar-2010         322013\n",
       "3  Apr-2010         -69417\n",
       "4  May-2010         310503"
      ]
     },
     "execution_count": 77,
     "metadata": {},
     "output_type": "execute_result"
    }
   ],
   "source": [
    "#create an analysis dataframe for performing calculations\n",
    "analysis_dataframe = pd.read_csv(csvpath)\n",
    "#return top 5 results to test\n",
    "analysis_dataframe.head()"
   ]
  },
  {
   "cell_type": "markdown",
   "id": "19b0ee53-5164-49ed-910c-e421715ae1f9",
   "metadata": {
    "tags": []
   },
   "source": [
    "### The total number of months included in the dataset."
   ]
  },
  {
   "cell_type": "code",
   "execution_count": 83,
   "id": "a365980f-5bdd-47d3-8a07-7651d15266a1",
   "metadata": {},
   "outputs": [
    {
     "name": "stdout",
     "output_type": "stream",
     "text": [
      "Total number of months in dataset:  86\n"
     ]
    }
   ],
   "source": [
    "#total number of months in dataset\n",
    "months_total = len(analysis_dataframe)\n",
    "print(f\"Total number of months in dataset:  {months_total}\")"
   ]
  },
  {
   "cell_type": "markdown",
   "id": "71c5e67e-df75-4c04-a96e-2785a53d345e",
   "metadata": {},
   "source": [
    "### The net total amount of Profit/Losses over the entire period."
   ]
  },
  {
   "cell_type": "code",
   "execution_count": 84,
   "id": "3c63c8e2-2569-4190-b34c-01b7387930ab",
   "metadata": {},
   "outputs": [
    {
     "name": "stdout",
     "output_type": "stream",
     "text": [
      "Net total amount of Profit/Losses over the entire period: $ 38,382,578.00\n"
     ]
    }
   ],
   "source": [
    "#The net total amount of Profit/Losses over the entire period.\n",
    "net_total = analysis_dataframe['Profit/Losses'].sum()\n",
    "print(f\"Net total amount of Profit/Losses over the entire period: $ {net_total:,.2f}\")"
   ]
  },
  {
   "cell_type": "markdown",
   "id": "4a7184b2-9d05-46e2-a23b-5decf96bd7fd",
   "metadata": {},
   "source": [
    "### The average of the changes in Profit/Losses over the entire period."
   ]
  },
  {
   "cell_type": "code",
   "execution_count": 85,
   "id": "840ad0a6-2c85-4612-bba2-2e68ea3818ef",
   "metadata": {},
   "outputs": [
    {
     "name": "stdout",
     "output_type": "stream",
     "text": [
      "Average of the changes in Profit/Losses over the entire period: $ 446,309.05\n"
     ]
    }
   ],
   "source": [
    "#The average of the changes in Profit/Losses over the entire period.\n",
    "analysis_mean = analysis_dataframe['Profit/Losses'].mean()\n",
    "print(f\"Average of the changes in Profit/Losses over the entire period: $ {analysis_mean:,.2f}\")"
   ]
  },
  {
   "cell_type": "markdown",
   "id": "a96b4227-e0fd-4e0e-8983-6dc8587cdb1b",
   "metadata": {},
   "source": [
    "### The greatest increase in profits (date and amount) over the entire period."
   ]
  },
  {
   "cell_type": "code",
   "execution_count": 127,
   "id": "1df3e5ea-059e-4d86-9082-9b1b8ba3d326",
   "metadata": {},
   "outputs": [
    {
     "name": "stdout",
     "output_type": "stream",
     "text": [
      "Greatest increase in profits was on : Feb-2012 for: $ 1,170,593.00\n"
     ]
    }
   ],
   "source": [
    "#The greatest increase in profits (date and amount) over the entire period.\n",
    "greatest_increase = analysis_dataframe['Profit/Losses'].max()\n",
    "\n",
    "# find the location of the greatest inncrease in the dataframe\n",
    "location_increase = analysis_dataframe.loc[analysis_dataframe['Profit/Losses'] == greatest_increase]\n",
    "\n",
    "#set variables for greatest inscrease in dataframe for date and profit-losses at location\n",
    "location_increase_date = location_increase.iat[0,0]\n",
    "location_increase_profit_losses = location_increase.iat[0,1]\n",
    "\n",
    "#print out results for greatest increase\n",
    "print(f\"Greatest increase in profits was on : {location_increase_date} for: $ {location_increase_profit_losses:,.2f}\")\n",
    "\n"
   ]
  },
  {
   "cell_type": "code",
   "execution_count": 126,
   "id": "8eeb2587-1402-47bf-a8ae-786ae2560a35",
   "metadata": {},
   "outputs": [
    {
     "data": {
      "text/html": [
       "<div>\n",
       "<style scoped>\n",
       "    .dataframe tbody tr th:only-of-type {\n",
       "        vertical-align: middle;\n",
       "    }\n",
       "\n",
       "    .dataframe tbody tr th {\n",
       "        vertical-align: top;\n",
       "    }\n",
       "\n",
       "    .dataframe thead th {\n",
       "        text-align: right;\n",
       "    }\n",
       "</style>\n",
       "<table border=\"1\" class=\"dataframe\">\n",
       "  <thead>\n",
       "    <tr style=\"text-align: right;\">\n",
       "      <th></th>\n",
       "      <th>Date</th>\n",
       "      <th>Profit/Losses</th>\n",
       "    </tr>\n",
       "  </thead>\n",
       "  <tbody>\n",
       "    <tr>\n",
       "      <th>0</th>\n",
       "      <td>Jan-2010</td>\n",
       "      <td>867884</td>\n",
       "    </tr>\n",
       "    <tr>\n",
       "      <th>1</th>\n",
       "      <td>Feb-2010</td>\n",
       "      <td>984655</td>\n",
       "    </tr>\n",
       "    <tr>\n",
       "      <th>2</th>\n",
       "      <td>Mar-2010</td>\n",
       "      <td>322013</td>\n",
       "    </tr>\n",
       "    <tr>\n",
       "      <th>3</th>\n",
       "      <td>Apr-2010</td>\n",
       "      <td>-69417</td>\n",
       "    </tr>\n",
       "    <tr>\n",
       "      <th>4</th>\n",
       "      <td>May-2010</td>\n",
       "      <td>310503</td>\n",
       "    </tr>\n",
       "  </tbody>\n",
       "</table>\n",
       "</div>"
      ],
      "text/plain": [
       "       Date  Profit/Losses\n",
       "0  Jan-2010         867884\n",
       "1  Feb-2010         984655\n",
       "2  Mar-2010         322013\n",
       "3  Apr-2010         -69417\n",
       "4  May-2010         310503"
      ]
     },
     "execution_count": 126,
     "metadata": {},
     "output_type": "execute_result"
    }
   ],
   "source": [
    "#testing return of values\n",
    "analysis_dataframe.head()"
   ]
  },
  {
   "cell_type": "markdown",
   "id": "e72b6cb0-5fbd-48c0-87a0-ffbb1bbd3d87",
   "metadata": {
    "tags": []
   },
   "source": [
    "### The greatest decrease in losses (date and amount) over the entire period."
   ]
  },
  {
   "cell_type": "code",
   "execution_count": 128,
   "id": "26a9fdd6-7c94-40a1-bcd9-9e6b52389412",
   "metadata": {},
   "outputs": [
    {
     "name": "stdout",
     "output_type": "stream",
     "text": [
      "Greatest decrease in losses was on : Feb-2017 for: $ -1,196,225.00\n"
     ]
    }
   ],
   "source": [
    "#The greatest decrease in losses (date and amount) over the entire period.\n",
    "greatest_decrease = analysis_dataframe['Profit/Losses'].min()\n",
    "print(f\"Greatest decrease in losses was on : {date} for: $ {greatest_decrease:,.2f}\")"
   ]
  },
  {
   "cell_type": "markdown",
   "id": "aff21356-8fb7-41b6-8636-18bc1ace1c2c",
   "metadata": {},
   "source": [
    "### Your final script should print the analysis to the terminal and export a text file with the results."
   ]
  },
  {
   "cell_type": "code",
   "execution_count": 130,
   "id": "8db50989-73a9-47fd-846d-32cf20c9c837",
   "metadata": {},
   "outputs": [
    {
     "name": "stdout",
     "output_type": "stream",
     "text": [
      "Greatest decrease in losses was on : Sep-2013 for: $ -1,196,225.00\n"
     ]
    }
   ],
   "source": [
    "#The greatest decrease in losses (date and amount) over the entire period.\n",
    "greatest_decrease = analysis_dataframe['Profit/Losses'].min()\n",
    "\n",
    "# find the location of the greatest decrease in the dataframe\n",
    "location_decrease = analysis_dataframe.loc[analysis_dataframe['Profit/Losses'] == greatest_decrease]\n",
    "\n",
    "#set variables for greatest decrease in dataframe for date and profit-losses at location\n",
    "location_decrease_date = location_decrease.iat[0,0]\n",
    "location_decrease_profit_losses = location_decrease.iat[0,1]\n",
    "\n",
    "#print out results for greatest decrease\n",
    "print(f\"Greatest decrease in losses was on : {location_decrease_date} for: $ {location_decrease_profit_losses:,.2f}\")\n",
    "\n"
   ]
  },
  {
   "cell_type": "code",
   "execution_count": 145,
   "id": "41398b2f-9dae-4d1f-905c-7d95ca78011e",
   "metadata": {},
   "outputs": [],
   "source": [
    "#EXPORT TEXT FILE\n",
    "f = open(\"PyBank_Output.txt\", \"w\")\n",
    "f.write(f\"Financial Analysis\\n\")\n",
    "f.write(f\"----------------------------\\n\")\n",
    "f.write(f\"Total Months:  {str(months_total)}\\n\")\n",
    "f.write(f\"Net total amount of Profit/Losses over the entire period: $ {net_total:,.2f}\\n\")\n",
    "f.write(f\"Average of the changes in Profit/Losses over the entire period: $ {analysis_mean:,.2f}\\n\")\n",
    "f.write(f\"Greatest increase in profits was on : {location_increase_date} for: $ {location_increase_profit_losses:,.2f}\\n\")\n",
    "f.write(f\"Greatest decrease in losses was on : {location_decrease_date} for: $ {location_decrease_profit_losses:,.2f}\\n\")\n",
    "f.close()"
   ]
  },
  {
   "cell_type": "code",
   "execution_count": null,
   "id": "a9edc7e8-cdf0-46cc-a352-5846050366da",
   "metadata": {},
   "outputs": [],
   "source": []
  },
  {
   "cell_type": "code",
   "execution_count": null,
   "id": "75904c2d-63dc-4073-9afe-6c2b7412ddfa",
   "metadata": {},
   "outputs": [],
   "source": []
  }
 ],
 "metadata": {
  "kernelspec": {
   "display_name": "Python 3 (ipykernel)",
   "language": "python",
   "name": "python3"
  },
  "language_info": {
   "codemirror_mode": {
    "name": "ipython",
    "version": 3
   },
   "file_extension": ".py",
   "mimetype": "text/x-python",
   "name": "python",
   "nbconvert_exporter": "python",
   "pygments_lexer": "ipython3",
   "version": "3.7.11"
  }
 },
 "nbformat": 4,
 "nbformat_minor": 5
}
