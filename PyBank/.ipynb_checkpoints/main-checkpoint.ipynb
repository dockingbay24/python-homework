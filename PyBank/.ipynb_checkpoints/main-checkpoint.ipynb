{
 "cells": [
  {
   "cell_type": "markdown",
   "id": "3a303021-17db-4f62-8e8c-3763b0829d87",
   "metadata": {},
   "source": [
    "## Create a Python script that analyzes the records to calculate each of the following:"
   ]
  },
  {
   "cell_type": "code",
   "execution_count": 1,
   "id": "86781406-e7f0-499d-be20-2222b928c5c8",
   "metadata": {},
   "outputs": [
    {
     "data": {
      "text/plain": [
       "'Chris Groshong: PyBank.\\n\\nPython script for analyzing the financial records of your company. You will be provided with a financial dataset in this file: budget_data.csv. \\nThis dataset is composed of two columns, Date and Profit/Losses.\\n\\nThis script that analyzes the records to calculate each of the following:\\n> The total number of months included in the dataset.\\n> The net total amount of Profit/Losses over the entire period.\\n> The average of the changes in Profit/Losses over the entire period.\\n> The greatest increase in profits (date and amount) over the entire period.\\n> The greatest decrease in losses (date and amount) over the entire period.\\n\\n'"
      ]
     },
     "execution_count": 1,
     "metadata": {},
     "output_type": "execute_result"
    }
   ],
   "source": [
    "\"\"\"Chris Groshong: PyBank.\n",
    "\n",
    "Python script for analyzing the financial records of your company. You will be provided with a financial dataset in this file: budget_data.csv. \n",
    "This dataset is composed of two columns, Date and Profit/Losses.\n",
    "\n",
    "This script that analyzes the records to calculate each of the following:\n",
    "> The total number of months included in the dataset.\n",
    "> The net total amount of Profit/Losses over the entire period.\n",
    "> The average of the changes in Profit/Losses over the entire period.\n",
    "> The greatest increase in profits (date and amount) over the entire period.\n",
    "> The greatest decrease in losses (date and amount) over the entire period.\n",
    "\n",
    "\"\"\"\n"
   ]
  },
  {
   "cell_type": "code",
   "execution_count": 2,
   "id": "5806fe7f-7ffb-4d06-a4b6-82bf67e1f83e",
   "metadata": {},
   "outputs": [],
   "source": [
    "# Import the pathlib and csv library\n",
    "from pathlib import Path\n",
    "import csv\n"
   ]
  },
  {
   "cell_type": "code",
   "execution_count": 3,
   "id": "166aa7fd-798b-497f-a7e9-955f19031c50",
   "metadata": {},
   "outputs": [],
   "source": [
    "# Set the file path\n",
    "csvpath = Path(\"../Resources/budget_data.csv\")"
   ]
  },
  {
   "cell_type": "code",
   "execution_count": 4,
   "id": "2bbeeff7-3efd-49c0-8aa7-0bcd171a566c",
   "metadata": {},
   "outputs": [],
   "source": [
    "# Initialize dictionary\n",
    "analysis = {}"
   ]
  },
  {
   "cell_type": "code",
   "execution_count": 6,
   "id": "70b5f0fb-b38d-48be-a168-d52f5fe855cc",
   "metadata": {},
   "outputs": [
    {
     "ename": "FileNotFoundError",
     "evalue": "[Errno 2] No such file or directory: '..\\\\..\\\\Resources\\\\budget_data.csv'",
     "output_type": "error",
     "traceback": [
      "\u001b[1;31m---------------------------------------------------------------------------\u001b[0m",
      "\u001b[1;31mFileNotFoundError\u001b[0m                         Traceback (most recent call last)",
      "\u001b[1;32m~\\AppData\\Local\\Temp/ipykernel_26524/2720203423.py\u001b[0m in \u001b[0;36m<module>\u001b[1;34m\u001b[0m\n\u001b[0;32m      1\u001b[0m \u001b[1;31m# Open the csv file as an object\u001b[0m\u001b[1;33m\u001b[0m\u001b[1;33m\u001b[0m\u001b[1;33m\u001b[0m\u001b[0m\n\u001b[1;32m----> 2\u001b[1;33m \u001b[1;32mwith\u001b[0m \u001b[0mopen\u001b[0m\u001b[1;33m(\u001b[0m\u001b[0mcsvpath\u001b[0m\u001b[1;33m,\u001b[0m \u001b[1;34m\"r\"\u001b[0m\u001b[1;33m)\u001b[0m \u001b[1;32mas\u001b[0m \u001b[0mcsvfile\u001b[0m\u001b[1;33m:\u001b[0m\u001b[1;33m\u001b[0m\u001b[1;33m\u001b[0m\u001b[0m\n\u001b[0m\u001b[0;32m      3\u001b[0m     \u001b[1;31m# Pass in the csv file to the csv.reader() function\u001b[0m\u001b[1;33m\u001b[0m\u001b[1;33m\u001b[0m\u001b[1;33m\u001b[0m\u001b[0m\n\u001b[0;32m      4\u001b[0m     \u001b[1;31m# (with ',' as the delmiter/separator) and return the csvreader object\u001b[0m\u001b[1;33m\u001b[0m\u001b[1;33m\u001b[0m\u001b[1;33m\u001b[0m\u001b[0m\n\u001b[0;32m      5\u001b[0m     \u001b[0mcsvreader\u001b[0m \u001b[1;33m=\u001b[0m \u001b[0mcsv\u001b[0m\u001b[1;33m.\u001b[0m\u001b[0mreader\u001b[0m\u001b[1;33m(\u001b[0m\u001b[0mcsvfile\u001b[0m\u001b[1;33m,\u001b[0m \u001b[0mdelimiter\u001b[0m\u001b[1;33m=\u001b[0m\u001b[1;34m\",\"\u001b[0m\u001b[1;33m)\u001b[0m\u001b[1;33m\u001b[0m\u001b[1;33m\u001b[0m\u001b[0m\n",
      "\u001b[1;31mFileNotFoundError\u001b[0m: [Errno 2] No such file or directory: '..\\\\..\\\\Resources\\\\budget_data.csv'"
     ]
    }
   ],
   "source": [
    "# Open the csv file as an object\n",
    "with open(csvpath, \"r\") as csvfile:\n",
    "    # Pass in the csv file to the csv.reader() function\n",
    "    # (with ',' as the delmiter/separator) and return the csvreader object\n",
    "    csvreader = csv.reader(csvfile, delimiter=\",\")\n",
    "    \n",
    "    # Read the header row first (skip this step if there is no header)\n",
    "    csv_header = next(csvreader)\n",
    "    # Print the header\n",
    "    print(csv_header)\n",
    "    \n",
    "    # Read each row of data after the header\n",
    "    for row in csvreader:\n",
    "        # Print the row\n",
    "        print(row)\n",
    "\n",
    "        # Set the 'date', and 'profit_losses' variables for better\n",
    "        # readability, convert strings to ints for numerical calculations\n",
    "        date = row[0]\n",
    "        profit_losses = int(row[1])\n",
    "       \n",
    "\n",
    "\n",
    "\n"
   ]
  },
  {
   "cell_type": "code",
   "execution_count": null,
   "id": "4d617748-76a0-49ac-8b64-dd307c895336",
   "metadata": {},
   "outputs": [],
   "source": []
  },
  {
   "cell_type": "code",
   "execution_count": null,
   "id": "ec346ced-ceaa-4072-b869-7b01d30c58d6",
   "metadata": {},
   "outputs": [],
   "source": []
  },
  {
   "cell_type": "markdown",
   "id": "19b0ee53-5164-49ed-910c-e421715ae1f9",
   "metadata": {
    "tags": []
   },
   "source": [
    "### The total number of months included in the dataset."
   ]
  },
  {
   "cell_type": "code",
   "execution_count": null,
   "id": "a365980f-5bdd-47d3-8a07-7651d15266a1",
   "metadata": {},
   "outputs": [],
   "source": []
  },
  {
   "cell_type": "markdown",
   "id": "71c5e67e-df75-4c04-a96e-2785a53d345e",
   "metadata": {},
   "source": [
    "### The net total amount of Profit/Losses over the entire period."
   ]
  },
  {
   "cell_type": "code",
   "execution_count": null,
   "id": "3c63c8e2-2569-4190-b34c-01b7387930ab",
   "metadata": {},
   "outputs": [],
   "source": []
  },
  {
   "cell_type": "markdown",
   "id": "4a7184b2-9d05-46e2-a23b-5decf96bd7fd",
   "metadata": {},
   "source": [
    "### The average of the changes in Profit/Losses over the entire period."
   ]
  },
  {
   "cell_type": "code",
   "execution_count": null,
   "id": "840ad0a6-2c85-4612-bba2-2e68ea3818ef",
   "metadata": {},
   "outputs": [],
   "source": []
  },
  {
   "cell_type": "markdown",
   "id": "a96b4227-e0fd-4e0e-8983-6dc8587cdb1b",
   "metadata": {},
   "source": [
    "### The greatest increase in profits (date and amount) over the entire period."
   ]
  },
  {
   "cell_type": "code",
   "execution_count": null,
   "id": "1df3e5ea-059e-4d86-9082-9b1b8ba3d326",
   "metadata": {},
   "outputs": [],
   "source": []
  },
  {
   "cell_type": "markdown",
   "id": "e72b6cb0-5fbd-48c0-87a0-ffbb1bbd3d87",
   "metadata": {},
   "source": [
    "### The greatest decrease in losses (date and amount) over the entire period."
   ]
  },
  {
   "cell_type": "code",
   "execution_count": null,
   "id": "26a9fdd6-7c94-40a1-bcd9-9e6b52389412",
   "metadata": {},
   "outputs": [],
   "source": []
  },
  {
   "cell_type": "code",
   "execution_count": null,
   "id": "b68ca4ba-2b0e-4d02-b8d8-0b44ef468e20",
   "metadata": {},
   "outputs": [],
   "source": []
  },
  {
   "cell_type": "markdown",
   "id": "aff21356-8fb7-41b6-8636-18bc1ace1c2c",
   "metadata": {},
   "source": [
    "### Your final script should print the analysis to the terminal and export a text file with the results."
   ]
  },
  {
   "cell_type": "code",
   "execution_count": null,
   "id": "8eeb2587-1402-47bf-a8ae-786ae2560a35",
   "metadata": {},
   "outputs": [],
   "source": []
  }
 ],
 "metadata": {
  "kernelspec": {
   "display_name": "Python 3 (ipykernel)",
   "language": "python",
   "name": "python3"
  },
  "language_info": {
   "codemirror_mode": {
    "name": "ipython",
    "version": 3
   },
   "file_extension": ".py",
   "mimetype": "text/x-python",
   "name": "python",
   "nbconvert_exporter": "python",
   "pygments_lexer": "ipython3",
   "version": "3.7.11"
  }
 },
 "nbformat": 4,
 "nbformat_minor": 5
}
